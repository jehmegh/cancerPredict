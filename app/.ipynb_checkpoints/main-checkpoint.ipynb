{
 "cells": [
  {
   "cell_type": "code",
   "execution_count": 15,
   "id": "ee4aeee3-ae0b-4964-89ca-bef5da438583",
   "metadata": {},
   "outputs": [],
   "source": [
    "import streamlit as st\n",
    "import pickle\n",
    "import pandas as pd\n",
    "import plotly.graph_objects as go\n",
    "import numpy as np"
   ]
  },
  {
   "cell_type": "code",
   "execution_count": 16,
   "id": "94d39957-f865-47ae-afa3-60fe7bc43c5b",
   "metadata": {},
   "outputs": [],
   "source": [
    "def get_clean_data():\n",
    "  data = pd.read_csv(\"data/data.csv\")\n",
    "  \n",
    "  data = data.drop(['Unnamed: 32', 'id'], axis=1)\n",
    "  \n",
    "  data['diagnosis'] = data['diagnosis'].map({ 'M': 1, 'B': 0 })\n",
    "  \n",
    "  return data"
   ]
  },
  {
   "cell_type": "code",
   "execution_count": 17,
   "id": "45781982-474c-4a70-ae99-88d81b7d35ca",
   "metadata": {},
   "outputs": [],
   "source": [
    "def add_sidebar():\n",
    "  st.sidebar.header(\"Cell Nuclei Measurements\")\n",
    "  \n",
    "  data = get_clean_data()\n",
    "  \n",
    "  slider_labels = [\n",
    "        (\"Radius (mean)\", \"radius_mean\"),\n",
    "        (\"Texture (mean)\", \"texture_mean\"),\n",
    "        (\"Perimeter (mean)\", \"perimeter_mean\"),\n",
    "        (\"Area (mean)\", \"area_mean\"),\n",
    "        (\"Smoothness (mean)\", \"smoothness_mean\"),\n",
    "        (\"Compactness (mean)\", \"compactness_mean\"),\n",
    "        (\"Concavity (mean)\", \"concavity_mean\"),\n",
    "        (\"Concave points (mean)\", \"concave points_mean\"),\n",
    "        (\"Symmetry (mean)\", \"symmetry_mean\"),\n",
    "        (\"Fractal dimension (mean)\", \"fractal_dimension_mean\"),\n",
    "        (\"Radius (se)\", \"radius_se\"),\n",
    "        (\"Texture (se)\", \"texture_se\"),\n",
    "        (\"Perimeter (se)\", \"perimeter_se\"),\n",
    "        (\"Area (se)\", \"area_se\"),\n",
    "        (\"Smoothness (se)\", \"smoothness_se\"),\n",
    "        (\"Compactness (se)\", \"compactness_se\"),\n",
    "        (\"Concavity (se)\", \"concavity_se\"),\n",
    "        (\"Concave points (se)\", \"concave points_se\"),\n",
    "        (\"Symmetry (se)\", \"symmetry_se\"),\n",
    "        (\"Fractal dimension (se)\", \"fractal_dimension_se\"),\n",
    "        (\"Radius (worst)\", \"radius_worst\"),\n",
    "        (\"Texture (worst)\", \"texture_worst\"),\n",
    "        (\"Perimeter (worst)\", \"perimeter_worst\"),\n",
    "        (\"Area (worst)\", \"area_worst\"),\n",
    "        (\"Smoothness (worst)\", \"smoothness_worst\"),\n",
    "        (\"Compactness (worst)\", \"compactness_worst\"),\n",
    "        (\"Concavity (worst)\", \"concavity_worst\"),\n",
    "        (\"Concave points (worst)\", \"concave points_worst\"),\n",
    "        (\"Symmetry (worst)\", \"symmetry_worst\"),\n",
    "        (\"Fractal dimension (worst)\", \"fractal_dimension_worst\"),\n",
    "    ]\n",
    "\n",
    "  input_dict = {}\n",
    "\n",
    "\n",
    "  for label, key in slider_labels:\n",
    "    input_dict[key] = st.sidebar.slider(\n",
    "      label,\n",
    "      min_value=float(0),\n",
    "      max_value=float(data[key].max()),\n",
    "      value=float(data[key].mean())\n",
    "    )\n",
    "    \n",
    "  return input_dict"
   ]
  },
  {
   "cell_type": "code",
   "execution_count": 18,
   "id": "86a3d86d-b005-4cf5-bd4c-84f1a2c43c91",
   "metadata": {},
   "outputs": [],
   "source": [
    "def get_radar_chart(input_data):\n",
    "  \n",
    "  input_data = get_scaled_values(input_data)\n",
    "  \n",
    "  categories = ['Radius', 'Texture', 'Perimeter', 'Area', \n",
    "                'Smoothness', 'Compactness', \n",
    "                'Concavity', 'Concave Points',\n",
    "                'Symmetry', 'Fractal Dimension']\n",
    "\n",
    "  fig = go.Figure()\n",
    "\n",
    "  fig.add_trace(go.Scatterpolar(\n",
    "        r=[\n",
    "          input_data['radius_mean'], input_data['texture_mean'], input_data['perimeter_mean'],\n",
    "          input_data['area_mean'], input_data['smoothness_mean'], input_data['compactness_mean'],\n",
    "          input_data['concavity_mean'], input_data['concave points_mean'], input_data['symmetry_mean'],\n",
    "          input_data['fractal_dimension_mean']\n",
    "        ],\n",
    "        theta=categories,\n",
    "        fill='toself',\n",
    "        name='Mean Value'\n",
    "  ))\n",
    "  fig.add_trace(go.Scatterpolar(\n",
    "        r=[\n",
    "          input_data['radius_se'], input_data['texture_se'], input_data['perimeter_se'], input_data['area_se'],\n",
    "          input_data['smoothness_se'], input_data['compactness_se'], input_data['concavity_se'],\n",
    "          input_data['concave points_se'], input_data['symmetry_se'],input_data['fractal_dimension_se']\n",
    "        ],\n",
    "        theta=categories,\n",
    "        fill='toself',\n",
    "        name='Standard Error'\n",
    "  ))\n",
    "  fig.add_trace(go.Scatterpolar(\n",
    "        r=[\n",
    "          input_data['radius_worst'], input_data['texture_worst'], input_data['perimeter_worst'],\n",
    "          input_data['area_worst'], input_data['smoothness_worst'], input_data['compactness_worst'],\n",
    "          input_data['concavity_worst'], input_data['concave points_worst'], input_data['symmetry_worst'],\n",
    "          input_data['fractal_dimension_worst']\n",
    "        ],\n",
    "        theta=categories,\n",
    "        fill='toself',\n",
    "        name='Worst Value'\n",
    "  ))\n",
    "\n",
    "  fig.update_layout(\n",
    "    polar=dict(\n",
    "      radialaxis=dict(\n",
    "        visible=True,\n",
    "        range=[0, 1]\n",
    "      )),\n",
    "    showlegend=True\n",
    "  )\n",
    "  \n",
    "  return fig"
   ]
  },
  {
   "cell_type": "code",
   "execution_count": 19,
   "id": "35e829fc-79d7-4732-bbd8-9805318ab04b",
   "metadata": {},
   "outputs": [],
   "source": [
    "def add_predictions(input_data):\n",
    "  model = pickle.load(open(\"model/model.pkl\", \"rb\"))\n",
    "  scaler = pickle.load(open(\"model/scaler.pkl\", \"rb\"))\n",
    "  \n",
    "  input_array = np.array(list(input_data.values())).reshape(1, -1)\n",
    "  \n",
    "  input_array_scaled = scaler.transform(input_array)\n",
    "  \n",
    "  prediction = model.predict(input_array_scaled)\n",
    "  \n",
    "  st.subheader(\"Cell cluster prediction\")\n",
    "  st.write(\"The cell cluster is:\")\n",
    "  \n",
    "  if prediction[0] == 0:\n",
    "    st.write(\"<span class='diagnosis benign'>Benign</span>\", unsafe_allow_html=True)\n",
    "  else:\n",
    "    st.write(\"<span class='diagnosis malicious'>Malicious</span>\", unsafe_allow_html=True)\n",
    "    \n",
    "  \n",
    "  st.write(\"Probability of being benign: \", model.predict_proba(input_array_scaled)[0][0])\n",
    "  st.write(\"Probability of being malicious: \", model.predict_proba(input_array_scaled)[0][1])\n",
    "  \n",
    "  st.write(\"This app can assist medical professionals in making a diagnosis, but should not be used as a substitute for a professional diagnosis.\")\n",
    "\n",
    "\n"
   ]
  },
  {
   "cell_type": "code",
   "execution_count": 20,
   "id": "1dca940f-c50a-45d2-955e-7a943c086e07",
   "metadata": {},
   "outputs": [
    {
     "name": "stderr",
     "output_type": "stream",
     "text": [
      "2025-03-05 08:56:59.227 \n",
      "  \u001b[33m\u001b[1mWarning:\u001b[0m to view this Streamlit app on a browser, run it with the following\n",
      "  command:\n",
      "\n",
      "    streamlit run D:\\anacondaWindows\\anacondaFiles\\Lib\\site-packages\\ipykernel_launcher.py [ARGUMENTS]\n"
     ]
    },
    {
     "ename": "NameError",
     "evalue": "name 'get_scaled_values' is not defined",
     "output_type": "error",
     "traceback": [
      "\u001b[1;31m---------------------------------------------------------------------------\u001b[0m",
      "\u001b[1;31mNameError\u001b[0m                                 Traceback (most recent call last)",
      "Cell \u001b[1;32mIn[20], line 29\u001b[0m\n\u001b[0;32m     24\u001b[0m     add_predictions(input_data)\n\u001b[0;32m     28\u001b[0m \u001b[38;5;28;01mif\u001b[39;00m \u001b[38;5;18m__name__\u001b[39m \u001b[38;5;241m==\u001b[39m \u001b[38;5;124m'\u001b[39m\u001b[38;5;124m__main__\u001b[39m\u001b[38;5;124m'\u001b[39m:\n\u001b[1;32m---> 29\u001b[0m   main()\n",
      "Cell \u001b[1;32mIn[20], line 21\u001b[0m, in \u001b[0;36mmain\u001b[1;34m()\u001b[0m\n\u001b[0;32m     18\u001b[0m col1, col2 \u001b[38;5;241m=\u001b[39m st\u001b[38;5;241m.\u001b[39mcolumns([\u001b[38;5;241m4\u001b[39m,\u001b[38;5;241m1\u001b[39m])\n\u001b[0;32m     20\u001b[0m \u001b[38;5;28;01mwith\u001b[39;00m col1:\n\u001b[1;32m---> 21\u001b[0m   radar_chart \u001b[38;5;241m=\u001b[39m get_radar_chart(input_data)\n\u001b[0;32m     22\u001b[0m   st\u001b[38;5;241m.\u001b[39mplotly_chart(radar_chart)\n\u001b[0;32m     23\u001b[0m \u001b[38;5;28;01mwith\u001b[39;00m col2:\n",
      "Cell \u001b[1;32mIn[18], line 3\u001b[0m, in \u001b[0;36mget_radar_chart\u001b[1;34m(input_data)\u001b[0m\n\u001b[0;32m      1\u001b[0m \u001b[38;5;28;01mdef\u001b[39;00m \u001b[38;5;21mget_radar_chart\u001b[39m(input_data):\n\u001b[1;32m----> 3\u001b[0m   input_data \u001b[38;5;241m=\u001b[39m get_scaled_values(input_data)\n\u001b[0;32m      5\u001b[0m   categories \u001b[38;5;241m=\u001b[39m [\u001b[38;5;124m'\u001b[39m\u001b[38;5;124mRadius\u001b[39m\u001b[38;5;124m'\u001b[39m, \u001b[38;5;124m'\u001b[39m\u001b[38;5;124mTexture\u001b[39m\u001b[38;5;124m'\u001b[39m, \u001b[38;5;124m'\u001b[39m\u001b[38;5;124mPerimeter\u001b[39m\u001b[38;5;124m'\u001b[39m, \u001b[38;5;124m'\u001b[39m\u001b[38;5;124mArea\u001b[39m\u001b[38;5;124m'\u001b[39m, \n\u001b[0;32m      6\u001b[0m                 \u001b[38;5;124m'\u001b[39m\u001b[38;5;124mSmoothness\u001b[39m\u001b[38;5;124m'\u001b[39m, \u001b[38;5;124m'\u001b[39m\u001b[38;5;124mCompactness\u001b[39m\u001b[38;5;124m'\u001b[39m, \n\u001b[0;32m      7\u001b[0m                 \u001b[38;5;124m'\u001b[39m\u001b[38;5;124mConcavity\u001b[39m\u001b[38;5;124m'\u001b[39m, \u001b[38;5;124m'\u001b[39m\u001b[38;5;124mConcave Points\u001b[39m\u001b[38;5;124m'\u001b[39m,\n\u001b[0;32m      8\u001b[0m                 \u001b[38;5;124m'\u001b[39m\u001b[38;5;124mSymmetry\u001b[39m\u001b[38;5;124m'\u001b[39m, \u001b[38;5;124m'\u001b[39m\u001b[38;5;124mFractal Dimension\u001b[39m\u001b[38;5;124m'\u001b[39m]\n\u001b[0;32m     10\u001b[0m   fig \u001b[38;5;241m=\u001b[39m go\u001b[38;5;241m.\u001b[39mFigure()\n",
      "\u001b[1;31mNameError\u001b[0m: name 'get_scaled_values' is not defined"
     ]
    }
   ],
   "source": [
    "def main():\n",
    "  st.set_page_config(\n",
    "    page_title=\"Breast Cancer Predictor\",\n",
    "    page_icon=\":female-doctor:\",\n",
    "    layout=\"wide\",\n",
    "    initial_sidebar_state=\"expanded\"\n",
    "  )\n",
    "  \n",
    "  with open(\"assets/style.css\") as f:\n",
    "    st.markdown(\"<style>{}</style>\".format(f.read()), unsafe_allow_html=True)\n",
    "  \n",
    "  input_data = add_sidebar()\n",
    "  \n",
    "  with st.container():\n",
    "    st.title(\"Breast Cancer Predictor\")\n",
    "    st.write(\"Please connect this app to your cytology lab to help diagnose breast cancer form your tissue sample. This app predicts using a machine learning model whether a breast mass is benign or malignant based on the measurements it receives from your cytosis lab. You can also update the measurements by hand using the sliders in the sidebar. \")\n",
    "  \n",
    "  col1, col2 = st.columns([4,1])\n",
    "  \n",
    "  with col1:\n",
    "    radar_chart = get_radar_chart(input_data)\n",
    "    st.plotly_chart(radar_chart)\n",
    "  with col2:\n",
    "    add_predictions(input_data)\n",
    "\n",
    "\n",
    " \n",
    "if __name__ == '__main__':\n",
    "  main()"
   ]
  },
  {
   "cell_type": "code",
   "execution_count": 13,
   "id": "333cbf3e-d5fd-40fd-853e-0f5be615b049",
   "metadata": {},
   "outputs": [
    {
     "name": "stdout",
     "output_type": "stream",
     "text": [
      "C:\\Users\\KAVITA\\app\n"
     ]
    }
   ],
   "source": [
    "import os\n",
    "print(os.getcwd())\n"
   ]
  },
  {
   "cell_type": "code",
   "execution_count": 14,
   "id": "c0a3a07c-713c-4da3-93ba-d492e4cdedf9",
   "metadata": {},
   "outputs": [
    {
     "name": "stdout",
     "output_type": "stream",
     "text": [
      "C:\\Users\\KAVITA\n"
     ]
    }
   ],
   "source": [
    "cd ..\n"
   ]
  },
  {
   "cell_type": "code",
   "execution_count": 21,
   "id": "c1658d25-6393-4710-ac22-e2a8e0e770bb",
   "metadata": {},
   "outputs": [
    {
     "ename": "SyntaxError",
     "evalue": "invalid syntax (788768522.py, line 1)",
     "output_type": "error",
     "traceback": [
      "\u001b[1;36m  Cell \u001b[1;32mIn[21], line 1\u001b[1;36m\u001b[0m\n\u001b[1;33m    streamlit run app/main.py\u001b[0m\n\u001b[1;37m              ^\u001b[0m\n\u001b[1;31mSyntaxError\u001b[0m\u001b[1;31m:\u001b[0m invalid syntax\n"
     ]
    }
   ],
   "source": [
    "streamlit run app/main.py\n"
   ]
  },
  {
   "cell_type": "code",
   "execution_count": null,
   "id": "bdd9832f-a9b3-46ad-94f2-d98488492788",
   "metadata": {},
   "outputs": [],
   "source": []
  }
 ],
 "metadata": {
  "kernelspec": {
   "display_name": "Python 3 (ipykernel)",
   "language": "python",
   "name": "python3"
  },
  "language_info": {
   "codemirror_mode": {
    "name": "ipython",
    "version": 3
   },
   "file_extension": ".py",
   "mimetype": "text/x-python",
   "name": "python",
   "nbconvert_exporter": "python",
   "pygments_lexer": "ipython3",
   "version": "3.12.7"
  }
 },
 "nbformat": 4,
 "nbformat_minor": 5
}
