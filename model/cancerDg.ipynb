{
 "cells": [
  {
   "cell_type": "code",
   "execution_count": 10,
   "id": "fd6fde60-2d9a-40a3-9324-35e341bfaa8a",
   "metadata": {},
   "outputs": [],
   "source": [
    "import pandas as pd\n",
    "from sklearn.preprocessing import StandardScaler\n",
    "from sklearn.model_selection import train_test_split\n",
    "from sklearn.linear_model import LogisticRegression\n",
    "from sklearn.metrics import accuracy_score, classification_report\n",
    "import pickle"
   ]
  },
  {
   "cell_type": "code",
   "execution_count": 4,
   "id": "cd97ed3c-9db3-483b-a313-dd046b4aad1b",
   "metadata": {},
   "outputs": [],
   "source": [
    "def create_model(data): \n",
    "  X = data.drop(['diagnosis'], axis=1)\n",
    "  y = data['diagnosis']\n",
    "  \n",
    "  # scale the data\n",
    "  scaler = StandardScaler()\n",
    "  X = scaler.fit_transform(X)\n",
    "  \n",
    "  # split the data\n",
    "  X_train, X_test, y_train, y_test = train_test_split(\n",
    "    X, y, test_size=0.2, random_state=42\n",
    "  )\n",
    "  \n",
    "  # train the model\n",
    "  model = LogisticRegression()\n",
    "  model.fit(X_train, y_train)\n",
    "  \n",
    "  # test model\n",
    "  y_pred = model.predict(X_test)\n",
    "  print('Accuracy of our model: ', accuracy_score(y_test, y_pred))\n",
    "  print(\"Classification report: \\n\", classification_report(y_test, y_pred))\n",
    "  \n",
    "  return model, scaler\n",
    "\n"
   ]
  },
  {
   "cell_type": "code",
   "execution_count": 15,
   "id": "26539001-6633-4e64-bbfc-08197a1c59de",
   "metadata": {},
   "outputs": [],
   "source": [
    "def get_clean_data():\n",
    "  data = pd.read_csv(\"data/data.csv\")\n",
    "  \n",
    "  data = data.drop(['Unnamed: 32', 'id'], axis=1)\n",
    "  \n",
    "  data['diagnosis'] = data['diagnosis'].map({ 'M': 1, 'B': 0 })\n",
    "  \n",
    "  return data\n"
   ]
  },
  {
   "cell_type": "code",
   "execution_count": 16,
   "id": "d796af75-deb7-4e39-99ce-ee1a35922064",
   "metadata": {},
   "outputs": [
    {
     "name": "stdout",
     "output_type": "stream",
     "text": [
      "Accuracy of our model:  0.9736842105263158\n",
      "Classification report: \n",
      "               precision    recall  f1-score   support\n",
      "\n",
      "           0       0.97      0.99      0.98        71\n",
      "           1       0.98      0.95      0.96        43\n",
      "\n",
      "    accuracy                           0.97       114\n",
      "   macro avg       0.97      0.97      0.97       114\n",
      "weighted avg       0.97      0.97      0.97       114\n",
      "\n"
     ]
    }
   ],
   "source": [
    "def main():\n",
    "  data = get_clean_data()\n",
    "\n",
    "  model, scaler = create_model(data)\n",
    "\n",
    "  with open('model/model.pkl', 'wb') as f:\n",
    "    pickle.dump(model, f)\n",
    "    \n",
    "  with open('model/scaler.pkl', 'wb') as f:\n",
    "    pickle.dump(scaler, f)\n",
    "  \n",
    "\n",
    "\n",
    "if __name__ == '__main__':\n",
    "      main()"
   ]
  },
  {
   "cell_type": "code",
   "execution_count": 14,
   "id": "5a4d1faf-2891-4de6-ab85-c5f12012e255",
   "metadata": {},
   "outputs": [
    {
     "name": "stdout",
     "output_type": "stream",
     "text": [
      "C:\\Users\\KAVITA\\cancerApp\n"
     ]
    }
   ],
   "source": [
    "#import os\n",
    "#print(os.getcwd())\n",
    "\n"
   ]
  },
  {
   "cell_type": "code",
   "execution_count": null,
   "id": "e1a434a2-b270-4d2d-b738-8af731b76669",
   "metadata": {},
   "outputs": [],
   "source": []
  }
 ],
 "metadata": {
  "kernelspec": {
   "display_name": "Python 3 (ipykernel)",
   "language": "python",
   "name": "python3"
  },
  "language_info": {
   "codemirror_mode": {
    "name": "ipython",
    "version": 3
   },
   "file_extension": ".py",
   "mimetype": "text/x-python",
   "name": "python",
   "nbconvert_exporter": "python",
   "pygments_lexer": "ipython3",
   "version": "3.12.7"
  }
 },
 "nbformat": 4,
 "nbformat_minor": 5
}
